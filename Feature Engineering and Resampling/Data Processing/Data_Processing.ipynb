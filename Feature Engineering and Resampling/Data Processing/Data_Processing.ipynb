{
  "nbformat": 4,
  "nbformat_minor": 0,
  "metadata": {
    "colab": {
      "provenance": [],
      "gpuType": "T4"
    },
    "kernelspec": {
      "name": "python3",
      "display_name": "Python 3"
    },
    "language_info": {
      "name": "python"
    }
  },
  "cells": [
    {
      "cell_type": "code",
      "execution_count": null,
      "metadata": {
        "id": "BKrVLpJ9n462"
      },
      "outputs": [],
      "source": [
        "import pandas as pd"
      ]
    },
    {
      "cell_type": "code",
      "source": [
        "df = pd.read_csv('cola_dataset/in_domain_train.tsv', delimiter = '\\t', header = None, names = ['sentence_source', 'label','label_original','sentence'])\n",
        "#df.head()"
      ],
      "metadata": {
        "id": "C300Hbi8sqNJ"
      },
      "execution_count": null,
      "outputs": []
    },
    {
      "cell_type": "code",
      "source": [
        "# Check the distribution of labels\n",
        "label_dist = df['label'].value_counts()\n",
        "print(label_dist)\n",
        "\n",
        "# distribution of labels as percentage\n",
        "label_dist_percentage = df['label'].value_counts(normalize = True)\n",
        "print(label_dist_percentage)\n",
        "\n",
        "# visualize the distribution using a bar plot\n",
        "label_dist.plot(kind='bar', title='Label Distribution')"
      ],
      "metadata": {
        "colab": {
          "base_uri": "https://localhost:8080/",
          "height": 587
        },
        "id": "78atqTV0tt79",
        "outputId": "0ce1132b-ca33-44de-a61f-de6c4aac1ac6"
      },
      "execution_count": null,
      "outputs": [
        {
          "output_type": "stream",
          "name": "stdout",
          "text": [
            "1    6023\n",
            "0    2528\n",
            "Name: label, dtype: int64\n",
            "1    0.704362\n",
            "0    0.295638\n",
            "Name: label, dtype: float64\n"
          ]
        },
        {
          "output_type": "execute_result",
          "data": {
            "text/plain": [
              "<Axes: title={'center': 'Label Distribution'}>"
            ]
          },
          "metadata": {},
          "execution_count": 10
        },
        {
          "output_type": "display_data",
          "data": {
            "text/plain": [
              "<Figure size 640x480 with 1 Axes>"
            ],
            "image/png": "[encoded data removed]"
          },
          "metadata": {}
        }
      ]
    },
    {
      "cell_type": "markdown",
      "source": [
        "There is imbalanced data , so we will resample instances using these:\n",
        "1. Undersampling (not very relevant here? for presentation can explain that we know it isn't relevant but we wanted to explore it)\n",
        "2. Oversampling\n",
        "3. SMOTE\n",
        "\n",
        "Before resampling, we will split the dataset, and tokenise using TF-IDF Vectorizer **(replace this with whichever tokeniser is better!)**"
      ],
      "metadata": {
        "id": "1TaYNuSDwCzw"
      }
    },
    {
      "cell_type": "code",
      "source": [
        "from sklearn.feature_extraction.text import TfidfVectorizer\n",
        "\n",
        "X_train = df['sentence']\n",
        "y_train = df['label']\n",
        "\n",
        "# convert sentences into numerical data using TF-IDF\n",
        "vectorizer = TfidfVectorizer()\n",
        "X_train_tfidf = vectorizer.fit_transform(X_train)\n",
        "\n",
        "# check if tokenizing done correctly\n",
        "# print(X_train_tfidf)\n",
        "\n",
        "# check dimension of X_train_tfidf. output = (no. of sentences, no. of unique words/tokens)\n",
        "print(X_train_tfidf.shape)"
      ],
      "metadata": {
        "colab": {
          "base_uri": "https://localhost:8080/"
        },
        "id": "JFJ_Nsusxcn6",
        "outputId": "977c78e9-5365-43b5-90e5-7fa6d073edb6"
      },
      "execution_count": null,
      "outputs": [
        {
          "output_type": "stream",
          "name": "stdout",
          "text": [
            "(8551, 5361)\n"
          ]
        }
      ]
    },
    {
      "cell_type": "markdown",
      "source": [
        "### Undersampling"
      ],
      "metadata": {
        "id": "VqJdU5nKNC7c"
      }
    },
    {
      "cell_type": "code",
      "source": [
        "from imblearn.under_sampling import RandomUnderSampler\n",
        "\n",
        "# Perform undersampling with 1:1 class distribution\n",
        "rus = RandomUnderSampler(sampling_strategy=1)\n",
        "X_train_rus, y_train_rus = rus.fit_resample(X_train_tfidf, y_train)\n",
        "\n",
        "# Check the distribution of oversampled labels\n",
        "y_train_under_dist = y_train_rus.value_counts()\n",
        "print(y_train_under_dist)\n",
        "\n",
        "# visualize the distribution using a bar plot\n",
        "y_train_under_dist.plot(kind='bar', title='Label Distribution after Undersampling')"
      ],
      "metadata": {
        "colab": {
          "base_uri": "https://localhost:8080/",
          "height": 527
        },
        "id": "R-jcxOMp8Z4d",
        "outputId": "e81faf7e-a312-408c-b5d9-74606c9c786f"
      },
      "execution_count": null,
      "outputs": [
        {
          "output_type": "stream",
          "name": "stdout",
          "text": [
            "0    2528\n",
            "1    2528\n",
            "Name: label, dtype: int64\n"
          ]
        },
        {
          "output_type": "execute_result",
          "data": {
            "text/plain": [
              "<Axes: title={'center': 'Label Distribution'}>"
            ]
          },
          "metadata": {},
          "execution_count": 17
        },
        {
          "output_type": "display_data",
          "data": {
            "text/plain": [
              "<Figure size 640x480 with 1 Axes>"
            ],
            "image/png": "[encoded data removed]"
          },
          "metadata": {}
        }
      ]
    },
    {
      "cell_type": "markdown",
      "source": [
        "### Oversampling"
      ],
      "metadata": {
        "id": "0YUfykXMNGDt"
      }
    },
    {
      "cell_type": "code",
      "source": [
        "from imblearn.over_sampling import RandomOverSampler\n",
        "\n",
        "# Perform oversampling with 1:1 class distribution\n",
        "ros = RandomOverSampler(sampling_strategy=1)\n",
        "X_train_ros, y_train_ros = ros.fit_resample(X_train_tfidf, y_train)\n",
        "\n",
        "# Check the distribution of oversampled labels\n",
        "y_train_over_dist = y_train_ros.value_counts()\n",
        "print(y_train_over_dist)\n",
        "\n",
        "# visualize the distribution using a bar plot\n",
        "y_train_over_dist.plot(kind='bar', title='Label Distribution after Oversampling')"
      ],
      "metadata": {
        "colab": {
          "base_uri": "https://localhost:8080/",
          "height": 527
        },
        "id": "K2qafAG56MVH",
        "outputId": "fd0e0971-a38d-488b-c01e-c69c1131063d"
      },
      "execution_count": null,
      "outputs": [
        {
          "output_type": "stream",
          "name": "stdout",
          "text": [
            "1    6023\n",
            "0    6023\n",
            "Name: label, dtype: int64\n"
          ]
        },
        {
          "output_type": "execute_result",
          "data": {
            "text/plain": [
              "<Axes: title={'center': 'Label Distribution'}>"
            ]
          },
          "metadata": {},
          "execution_count": 14
        },
        {
          "output_type": "display_data",
          "data": {
            "text/plain": [
              "<Figure size 640x480 with 1 Axes>"
            ],
            "image/png": "[encoded data removed]"
          },
          "metadata": {}
        }
      ]
    },
    {
      "cell_type": "code",
      "source": [
        "# SMOTE"
      ],
      "metadata": {
        "id": "6a7bsUQn9ln7"
      },
      "execution_count": null,
      "outputs": []
    },
    {
      "cell_type": "markdown",
      "source": [
        "## **Some questions**:\n",
        "\n",
        "**Why we need to balance the data?**\n",
        "If the dataset is highly imbalanced, the model might become insensitive to the minority class (grammatically incorrect sentences). This can lead to many false negatives, where errors are overlooked. In such cases, balancing the dataset can help the model become more sensitive to errors.\n",
        "\n",
        "**Why we choose SMOTE over oversampling?**\n",
        "The method used for balancing can also influence the desired balance. For instance, random oversampling can lead to overfitting if the minority class is oversampled too much. Synthetic methods like SMOTE create new examples, which can sometimes introduce noise or artificial patterns.\n"
      ],
      "metadata": {
        "id": "sy0lsE1XNRxt"
      }
    },
    {
      "cell_type": "markdown",
      "source": [
        "## **Research on which SMOTE variant to use?**\n",
        "\n",
        "#### Easy vs. Hard Samples:\n",
        "\n",
        "- **Easy Samples**: These are data points that are well-separated from the other classes in the feature space. They are located deep within the territory of their respective class and are easy for the model to classify correctly.\n",
        "\n",
        "- **Hard Samples**: These are data points that are close to the decision boundary or are surrounded by data points from other classes. They are challenging for the model to classify correctly and are often the primary contributors to misclassification errors.\n",
        "\n",
        "In the context of deep learning and neural networks, hard samples are often the focus during training, especially when techniques like hard negative mining are employed. The idea is to prioritize the difficult samples during training to improve the model's robustness and generalization.\n",
        "\n",
        "#### SMOTE vs. ADASYN:\n",
        "\n",
        "- **SMOTE (Synthetic Minority Over-sampling Technique)**:\n",
        "  - **Description**: SMOTE creates synthetic samples in the feature space. For each minority class sample, it selects 'k' nearest neighbors, chooses one of them randomly, and then creates a random linear combination of these two samples to produce a new synthetic sample.\n",
        "  - **Advantages**: Adds diversity to the dataset by creating new synthetic examples.\n",
        "  - **Drawbacks**: Can introduce noise, especially if synthetic samples are generated too far from any real samples.\n",
        "\n",
        "- **ADASYN (Adaptive Synthetic Sampling)**:\n",
        "  - **Description**: ADASYN is an extension of SMOTE. It focuses on generating samples next to the original samples which are wrongly classified using a k-Nearest Neighbors classifier. In other words, it gives more weight to the boundary samples (hard samples) and generates more synthetic data in those regions.\n",
        "  - **Advantages**: Prioritizes regions where the model is likely to misclassify, making it adaptive to the actual learning difficulty.\n",
        "  - **Drawbacks**: Can be computationally more intensive than SMOTE.\n",
        "\n",
        "#### Which to Use for Grammar Acceptability Model?\n",
        "\n",
        "For a grammar acceptability model, the primary concern is to correctly identify sentences with subtle grammatical errors, which can be considered as \"hard samples.\" Given this:\n",
        "\n",
        "- **ADASYN** might be more suitable because it focuses on generating synthetic samples in regions of the feature space where the model is more likely to misclassify, i.e., near the hard samples. This can help the model become more sensitive to subtle grammatical errors.\n",
        "\n",
        "- However, it's essential to be cautious, as generating too many synthetic samples near the decision boundary can introduce noise and make the model overly sensitive, leading to more false positives.\n",
        "\n",
        "- **SMOTE** can be a good starting point due to its simplicity and effectiveness. If you find that the model struggles with certain types of subtle errors, you can then consider ADASYN.\n",
        "\n",
        "In practice, the best approach is often to experiment with both techniques and evaluate their performance on a validation set. It's also crucial to ensure that the synthetic samples make sense in the context of grammar acceptability, i.e., they should represent plausible, albeit incorrect, sentence structures."
      ],
      "metadata": {
        "id": "id42Y7eEBPAU"
      }
    },
    {
      "cell_type": "markdown",
      "source": [
        "\n",
        "## **Evaluation Stuff: How to decide which metric?**\n",
        "Depending on the application, the cost of false positives and false negatives might differ. For instance, in a learning environment, overlooking errors (false negatives) might be more detrimental than occasionally flagging correct sentences. This cost consideration can influence the desired balance.\n",
        "\n",
        "FP: wrong, mark correct\n",
        "FN: correct, mark wrong\n",
        "\n",
        "**In grammatical acceptability, we rather have the model point out mistakes even if it could be correct. Hence, cost of FN should be higher.**\n",
        "\n",
        "**But consider the Application:**\n",
        "The desired ratio should also consider the specific application. For instance, in a preliminary grammar-checking tool, marking more sentences as potentially incorrect might be acceptable, as users can review and dismiss false alarms. However, in high-stakes scenarios, such as academic paper reviews, too many false positives might not be acceptable.\n",
        "\n",
        "**For evaluation, consider**\n",
        "* precision, recall, F1-score\n",
        "* AUC-ROC\n",
        "* confusion matrix\n",
        "\n",
        "Accuracy might be misleading with imbalanced datasets because it might always predict the majority class with high accuracy.\n",
        "\n",
        "For grammar detection, precision (how many of the flagged errors are actual errors), recall (how many of the actual errors were flagged), and the F1-score (harmonic mean of precision and recall) are often more informative than accuracy, especially if the dataset is imbalanced."
      ],
      "metadata": {
        "id": "d9qxP-koOCa-"
      }
    }
  ]
}