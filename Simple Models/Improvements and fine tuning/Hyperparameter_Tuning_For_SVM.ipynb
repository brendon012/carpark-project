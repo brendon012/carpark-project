{
  "cells": [
    {
      "cell_type": "code",
      "execution_count": null,
      "metadata": {
        "id": "7FCQd-iku9AP",
        "colab": {
          "base_uri": "https://localhost:8080/",
          "height": 396
        },
        "outputId": "bec5f4eb-d25f-4095-b881-01b48c555670"
      },
      "outputs": [
        {
          "output_type": "stream",
          "name": "stdout",
          "text": [
            "Found existing installation: scikit-learn 1.3.2\n",
            "Uninstalling scikit-learn-1.3.2:\n",
            "  Successfully uninstalled scikit-learn-1.3.2\n",
            "Found existing installation: imbalanced-learn 0.11.0\n",
            "Uninstalling imbalanced-learn-0.11.0:\n",
            "  Successfully uninstalled imbalanced-learn-0.11.0\n",
            "Collecting scikit-learn\n",
            "  Using cached scikit_learn-1.3.2-cp310-cp310-manylinux_2_17_x86_64.manylinux2014_x86_64.whl (10.8 MB)\n",
            "Collecting imbalanced-learn\n",
            "  Using cached imbalanced_learn-0.11.0-py3-none-any.whl (235 kB)\n",
            "Requirement already satisfied: numpy<2.0,>=1.17.3 in /usr/local/lib/python3.10/dist-packages (from scikit-learn) (1.23.5)\n",
            "Requirement already satisfied: scipy>=1.5.0 in /usr/local/lib/python3.10/dist-packages (from scikit-learn) (1.11.4)\n",
            "Requirement already satisfied: joblib>=1.1.1 in /usr/local/lib/python3.10/dist-packages (from scikit-learn) (1.3.2)\n",
            "Requirement already satisfied: threadpoolctl>=2.0.0 in /usr/local/lib/python3.10/dist-packages (from scikit-learn) (3.2.0)\n",
            "Installing collected packages: scikit-learn, imbalanced-learn\n",
            "Successfully installed imbalanced-learn-0.11.0 scikit-learn-1.3.2\n"
          ]
        },
        {
          "output_type": "display_data",
          "data": {
            "application/vnd.colab-display-data+json": {
              "pip_warning": {
                "packages": [
                  "imblearn",
                  "sklearn"
                ]
              }
            }
          },
          "metadata": {}
        }
      ],
      "source": [
        "!pip uninstall scikit-learn imbalanced-learn -y\n",
        "!pip install scikit-learn imbalanced-learn"
      ]
    },
    {
      "cell_type": "markdown",
      "metadata": {
        "id": "ld0EYampvTiN"
      },
      "source": [
        "## Plan\n",
        "- plot validation curves so that we can keep to a range of parameters and don't overfit/underfit\n",
        "  - find range of C and gamma for rbf_svm\n",
        "  - results: C between 10^-3 and 10^2, gamma between 10^-3 and 10^-1\n",
        "- plot learning curves to learn about relationship between sample size and test/training scores\n",
        "- randomized search to find parameters\n",
        "- grid search to find parameters within the range known from validation curves\n"
      ]
    },
    {
      "cell_type": "markdown",
      "metadata": {
        "id": "D6am7QKec_lN"
      },
      "source": [
        "#### Load things from Data Processing"
      ]
    },
    {
      "cell_type": "code",
      "execution_count": null,
      "metadata": {
        "id": "l5qknqnRnzUr"
      },
      "outputs": [],
      "source": [
        "import pandas as pd\n",
        "import numpy as np\n",
        "from sklearn.feature_extraction.text import CountVectorizer # for feature extraction\n",
        "from imblearn.over_sampling import ADASYN # to do resampling\n",
        "from sklearn import svm\n",
        "from sklearn.svm import SVC\n",
        "\n",
        "from sklearn.model_selection import validation_curve\n",
        "from sklearn.model_selection import ValidationCurveDisplay # to plot validation curves\n",
        "from sklearn.model_selection import LearningCurveDisplay # to plot learning curves\n",
        "\n",
        "from sklearn.model_selection import GridSearchCV\n",
        "from sklearn.model_selection import RandomizedSearchCV\n",
        "from scipy.stats import uniform, expon,loguniform"
      ]
    },
    {
      "cell_type": "code",
      "execution_count": null,
      "metadata": {
        "id": "fOnTn7uhro4O"
      },
      "outputs": [],
      "source": [
        "# Load your data that is in DataFrame using pandas\n",
        "\n",
        "train_data = pd.read_csv('cola_dataset/in_domain_train.tsv', delimiter = '\\t', header = None, names = ['sentence_source', 'label','label_original','sentence'])\n",
        "train_texts = train_data.iloc[:,3]\n",
        "train_labels = train_data.iloc[:,1]\n",
        "\n",
        "valid_data = pd.read_csv('cola_dataset/in_domain_dev.tsv', delimiter = '\\t', header = None, names = ['sentence_source', 'label','label_original','sentence'])\n",
        "val_texts = valid_data.iloc[:,3]\n",
        "val_labels = valid_data.iloc[:,1]\n",
        "\n",
        "test_data = pd.read_csv('cola_dataset/out_of_domain_dev.tsv', delimiter = '\\t', header = None, names = ['sentence_source', 'label','label_original','sentence'])\n",
        "test_texts = test_data.iloc[:,3]\n",
        "test_labels = test_data.iloc[:,1]"
      ]
    },
    {
      "cell_type": "code",
      "execution_count": null,
      "metadata": {
        "id": "_Pw7dgPnrtj5"
      },
      "outputs": [],
      "source": [
        "# Feature extraction using CountVectorizer and n_grams\n",
        "vectorizer = CountVectorizer(ngram_range=(3, 3))  # This considers unigrams, bigrams, and trigrams\n",
        "train_vec = vectorizer.fit_transform(train_texts)\n",
        "val_vec = vectorizer.transform(val_texts)\n",
        "test_vec = vectorizer.transform(test_texts)"
      ]
    },
    {
      "cell_type": "code",
      "execution_count": null,
      "metadata": {
        "id": "ASVSzkYywA_J"
      },
      "outputs": [],
      "source": [
        "# Resampling training data with Adasyn\n",
        "ada = ADASYN(random_state=42)\n",
        "vec_resampled, labels_resampled = ada.fit_resample(X=train_vec, y=train_labels)"
      ]
    },
    {
      "cell_type": "code",
      "execution_count": null,
      "metadata": {
        "id": "PtF-DVVewV0x"
      },
      "outputs": [],
      "source": [
        "# classifiers\n",
        "linear_svm = svm.SVC(kernel='linear') #linear svm\n",
        "rbf_svm = svm.SVC(kernel='rbf') #rbf kernel svm"
      ]
    },
    {
      "cell_type": "markdown",
      "metadata": {
        "id": "86U74m1GReMm"
      },
      "source": [
        "#### Radius Basis Function Kernel SVM: validation and learning curves"
      ]
    },
    {
      "cell_type": "code",
      "execution_count": null,
      "metadata": {
        "id": "_yJdHffP_TC0"
      },
      "outputs": [],
      "source": [
        "#validation curve for rbf svm using param = C\n",
        "ValidationCurveDisplay.from_estimator(rbf_svm, vec_resampled, labels_resampled,\n",
        "                                      param_name=\"C\", param_range=np.logspace(-7, 3, 10))"
      ]
    },
    {
      "cell_type": "code",
      "execution_count": null,
      "metadata": {
        "id": "WT1fcoJu5Z4T"
      },
      "outputs": [],
      "source": [
        "#validation curve for rbf svm using param = gamma\n",
        "ValidationCurveDisplay.from_estimator(rbf_svm, vec_resampled, labels_resampled,\n",
        "                                      param_name=\"gamma\", param_range=np.logspace(-7, 3, 10))"
      ]
    },
    {
      "cell_type": "code",
      "execution_count": null,
      "metadata": {
        "id": "BzXoDL-hKRMB"
      },
      "outputs": [],
      "source": [
        "# learning curve for rbf svm\n",
        "LearningCurveDisplay.from_estimator(rbf_svm, vec_resampled, labels_resampled,\n",
        "                                      train_sizes=np.linspace(0.1, 1.0, 10), cv=5)"
      ]
    },
    {
      "cell_type": "markdown",
      "source": [
        "#### Randomized search\n"
      ],
      "metadata": {
        "id": "m-XQ0LDppBon"
      }
    },
    {
      "cell_type": "code",
      "source": [
        "# hyperparameter tuning using randomized search for rbf\n",
        "model = rbf_svm\n",
        "\n",
        "# define the hyperparameter search space\n",
        "param_distributions = {\n",
        "    'C': loguniform(1e-2, 10),\n",
        "    'gamma': [0.03]\n",
        "}\n",
        "\n",
        "# set up randomized search\n",
        "random_search = RandomizedSearchCV(rbf_svm, param_distributions, n_iter=100,\n",
        "                                   cv=5, verbose=1, random_state=42, n_jobs=-1)\n",
        "\n",
        "# perform randomized search\n",
        "random_search.fit(vec_resampled, labels_resampled)\n",
        "\n",
        "print(\"Best parameters found: \", random_search.best_params_)\n",
        "print(\"Best score found: \", random_search.best_score_)"
      ],
      "metadata": {
        "id": "v3FjVwXkpLkQ",
        "colab": {
          "base_uri": "https://localhost:8080/"
        },
        "outputId": "6de67a59-09f6-4092-dac1-5a5e53c21fb4"
      },
      "execution_count": null,
      "outputs": [
        {
          "output_type": "stream",
          "name": "stdout",
          "text": [
            "Fitting 5 folds for each of 100 candidates, totalling 500 fits\n",
            "Best parameters found:  {'C': 9.795846277645586, 'gamma': 1.4922453771381408}\n",
            "Best score found:  0.7797724456518587\n"
          ]
        }
      ]
    },
    {
      "cell_type": "markdown",
      "metadata": {
        "id": "xA4srVU9aKtE"
      },
      "source": [
        "#### Grid search"
      ]
    },
    {
      "cell_type": "code",
      "execution_count": null,
      "metadata": {
        "id": "J3k-65g-P1F2"
      },
      "outputs": [],
      "source": [
        "# hyperparameter tuning using grid search\n",
        "model = SVC()\n",
        "\n",
        "# Set up hyperparameter grid to test\n",
        "param_grid = {\n",
        "    'C': [0.001, 0.001, 0.01, 0.1, 1, 10, 100],\n",
        "    'gamma': [0.001, 0.01, 0.1, 1],\n",
        "    'kernel': ['rbf', 'linear']\n",
        "}\n",
        "\n",
        "# set up grid search\n",
        "grid_search = GridSearchCV(model, param_grid, cv=5, scoring='accuracy')\n",
        "\n",
        "# perform grid search\n",
        "grid_search.fit(vec_resampled, labels_resampled)\n",
        "\n",
        "# best parameters and best score\n",
        "print(\"Best parameters:\", grid_search.best_params_)\n",
        "print(\"Best score:\", grid_search.best_score_)"
      ]
    },
    {
      "cell_type": "markdown",
      "source": [
        "#### Results of Randomized Search and Grid Search"
      ],
      "metadata": {
        "id": "B_-7wChW_MMC"
      }
    },
    {
      "cell_type": "code",
      "source": [
        "from sklearn.metrics import matthews_corrcoef, roc_auc_score\n",
        "from sklearn.metrics import accuracy_score, classification_report\n",
        "model = SVC(kernel='rbf', C=0.20526315789473684, gamma=0.04)\n",
        "model.fit(vec_resampled, labels_resampled)\n",
        "\n",
        "validation_pred = model.predict(val_vec)\n",
        "validation_roc_auc = roc_auc_score(val_labels, validation_pred)\n",
        "validation_mcc = matthews_corrcoef(val_labels, validation_pred)\n",
        "\n",
        "test_pred = model.predict(test_vec)\n",
        "test_roc_auc = roc_auc_score(test_labels, test_pred)\n",
        "test_mcc = matthews_corrcoef(test_labels, test_pred)\n",
        "\n",
        "# Metrics\n",
        "print(\"Validation:\")\n",
        "print(classification_report(val_labels, validation_pred))\n",
        "print(f\"Validation ROC_AUC: {validation_roc_auc}\")\n",
        "print(f\"Validation MCC: {validation_mcc}\")\n",
        "print(\"Test:\")\n",
        "print(classification_report(test_labels, test_pred))\n",
        "print(f\"Test ROC_AUC: {test_roc_auc}\")\n",
        "print(f\"Test MCC: {test_mcc}\")"
      ],
      "metadata": {
        "id": "eFW5CUGf7NwQ"
      },
      "execution_count": null,
      "outputs": []
    },
    {
      "cell_type": "markdown",
      "source": [
        "1.'C': loguniform(1e-2, 1e0), 'gamma': loguniform(1e-3, 1e-1)\n",
        "* Best parameters found:  {'C': 0.0533653306637961, 'gamma': 0.08781408196485979}\n",
        "* Best score found:  0.7022315649339227\n",
        "* Test ROC_AUC: 0.5129402301262547\n",
        "* Test MCC: 0.037457219149803475\n",
        "\n",
        "2.'C': loguniform(1e-1, 10), 'gamma': loguniform(1e-2, 1e-1)\n",
        "* Best parameters found:  {'C': 0.10994335574766201, 'gamma': 0.09330606024425668}\n",
        "* Best score found:  0.7297635855049285\n",
        "* Test ROC_AUC: 0.5127641766059845\n",
        "* Test MCC: 0.036959313166822445\n",
        "\n",
        "3.'C': loguniform(1e-2, 5), 'gamma': loguniform(1e-4, 1e-2)\n",
        "* Best parameters found:  {'C': 1.5109731920685008, 'gamma': 0.006197015748809144}\n",
        "* Best score found:  0.6528668535781784\n",
        "* Test ROC_AUC: 0.5126429545693002\n",
        "* Test MCC: 0.051782133103726834\n",
        "\n",
        "4.'C': loguniform(0.01, 0.1), 'gamma': loguniform(0.01, 0.1)\n",
        "* Best parameters found:  {'C': 0.02310093735409802, 'gamma': 0.09370916815598128}\n",
        "* Best score found:  0.7218186434245144\n",
        "* Test ROC_AUC: 0.5129402301262547\n",
        "* Test MCC: 0.037457219149803475\n",
        "\n",
        "5.'C': loguniform(1e-1, 10), 'gamma': loguniform(1e-3, 1e-1)\n",
        "* Best parameters found:  {'C': 0.14096175149815865, 'gamma': 0.09413993046829945}\n",
        "* Best score found:  0.7333080514279762\n",
        "* Test ROC_AUC: 0.5129402301262547\n",
        "* Test MCC: 0.037457219149803475\n",
        "\n",
        "6.ran with 80 iterations and 3 folds\n",
        "'C': loguniform(1e-2, 10), 'gamma': [0.03]\n",
        "* Best parameters found:  {'C': 0.3752055855124282, 'gamma': 0.03}\n",
        "* Best score found:  0.6746127297535919\n",
        "* Test ROC_AUC: 0.5264176605984515\n",
        "* Test MCC: 0.0906660628563406\n",
        "\n",
        "7.'C': loguniform(1e-2, 10), 'gamma': [0.03]\n",
        "* Best parameters found:  {'C': 0.26100256506134767, 'gamma': 0.03}\n",
        "* Best score found:  0.6974958325090712\n",
        "* Test ROC_AUC: 0.5250052312199205\n",
        "* Test MCC: 0.08679336705643383\n",
        "\n",
        "8.'C': loguniform(0.2, 0.4), 'gamma': [0.03]\n",
        "* Best parameters found:  {'C': 0.2592852466099094, 'gamma': 0.03}\n",
        "* Best score found:  0.6974958325090712\n",
        "* Test ROC_AUC: 0.5250052312199205\n",
        "* Test MCC: 0.08679336705643383\n",
        "\n",
        "9.grid search -\n",
        "  'C': np.linspace(0.2, 0.4, 20), 'gamma': [0.03]\n",
        "* Best parameters: {'C': 0.26315789473684215, 'gamma': 0.03}\n",
        "* Best score: 0.6975761215496171\n",
        "* Test ROC_AUC: 0.5250052312199205\n",
        "* Test MCC: 0.08679336705643383\n",
        "\n",
        "10.grid search\n",
        "* Best parameters: {'C': 10, 'gamma': 0.05}\n",
        "* Best score: 0.6605730227535018\n",
        "* Test ROC_AUC: 0.5234672822019375\n",
        "* Test MCC: 0.07963104884022297\n",
        "\n",
        "11.grid search\n",
        "* 'C': np.linspace(0.1, 0.6, 20), 'gamma': [0.03]\n",
        "* Best parameters: {'C': 0.3894736842105263, 'gamma': 0.03}\n",
        "* Best score: 0.6745324664900876\n",
        "* Test ROC_AUC: 0.5264176605984515\n",
        "* Test MCC: 0.0906660628563406\n",
        "\n",
        "12. grid search\n",
        "* 'C': np.linspace(0.1, 0.6, 20), 'gamma': [0.02, 0.03, 0.04]\n",
        "* Test ROC_AUC: 0.5071144590918603\n",
        "* Test MCC: 0.02123039581451165\n"
      ],
      "metadata": {
        "id": "_m3BMvyfYp9o"
      }
    }
  ],
  "metadata": {
    "colab": {
      "collapsed_sections": [
        "86U74m1GReMm"
      ],
      "provenance": []
    },
    "kernelspec": {
      "display_name": "Python 3",
      "name": "python3"
    },
    "language_info": {
      "name": "python"
    }
  },
  "nbformat": 4,
  "nbformat_minor": 0
}